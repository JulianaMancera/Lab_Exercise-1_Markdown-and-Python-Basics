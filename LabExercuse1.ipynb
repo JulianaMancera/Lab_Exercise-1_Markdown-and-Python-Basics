{
 "cells": [
  {
   "cell_type": "markdown",
   "id": "16bac3af",
   "metadata": {},
   "source": [
    "**Professional Elective 4 - Lab Exercise 1 Markdown and Python Basics**"
   ]
  },
  {
   "cell_type": "markdown",
   "id": "bb4f27d4",
   "metadata": {},
   "source": [
    "# Introduction to Markdown\n",
    "\n",
    "Colab has two types of cells: text and code. Text cells are formatted using sa simple markup language called Markdown.\n",
    "\n"
   ]
  },
  {
   "cell_type": "markdown",
   "id": "08144b4e",
   "metadata": {},
   "source": [
    "## Bold, Italics and Underline\n",
    "Surround the word with double asterisk to make it  **bold**.\n",
    "\n",
    "Surround the word with single underscore to make it _italics_. You may use also the single asterisk to *italicized*."
   ]
  },
  {
   "cell_type": "markdown",
   "id": "3f91aaf4",
   "metadata": {},
   "source": [
    "## Paragraphs, Images, Hyperlinks\n",
    "> Use the greater than symbol (>) to indent the paragraph. Strike two times enter key to move the next line.\n",
    ">> If there is a sub paragraph, use the double grater than symbol.\n",
    "\n",
    "Use the syntax \"[Name of the link] (URL)\" to include hyperlink in your notebook\n",
    "Example: \"[NEUVLE] (https://neuvle.neu.edu.ph)\n",
    "\n",
    "Use the syntax to view the image ![Google Logo](https://pngimg.com/uploads/google/google_PNG102344.png)\n",
    "\n",
    "Alternatively, you may use the img html tag:\n",
    "<img src = \"https://pngimg.com/uploads/google/google_PNG102344.png\" width=25%>"
   ]
  },
  {
   "cell_type": "markdown",
   "id": "b22af672",
   "metadata": {},
   "source": [
    "## Bullets\n",
    "\n",
    "You may use the single dash to imetize.\n",
    "\n",
    "The following topics will be discussed in Business Analytics:\n",
    "- Descriptive Analytics\n",
    "- Predictive Analytics\n",
    "- Prescriptive Analytics\n",
    "\n",
    "Or, use this format to put numbers\n",
    "\n",
    "You must possess the skills below to learn its application:\n",
    "1. Statistics\n",
    "2. Python\n",
    "3. Machine Learning\n",
    "\n"
   ]
  },
  {
   "cell_type": "markdown",
   "id": "7dc1786c",
   "metadata": {},
   "source": [
    "# Python Basics\n",
    "Learn the basic of Python and its data types"
   ]
  },
  {
   "cell_type": "markdown",
   "id": "572ce0b0",
   "metadata": {},
   "source": [
    "## Input and Output"
   ]
  },
  {
   "cell_type": "code",
   "execution_count": 3,
   "id": "349eca69",
   "metadata": {},
   "outputs": [
    {
     "name": "stdout",
     "output_type": "stream",
     "text": [
      "Your name is Juliana\n",
      "\n",
      "Juliana is your name\n",
      "Juliana is the name, soon it will be legend!\n",
      "\n",
      "Your age is\t 23\n"
     ]
    }
   ],
   "source": [
    "# Input name and display name\n",
    "name = input(\"Enter name: \") # auto data type casting\n",
    "print(\"Your name is\", name) # first version of the print\n",
    "print(\"\\n\" + name + \" is your name\") # second version\n",
    "print(f\"{name} is the name, soon it will be legend!\")\n",
    "\n",
    "age = 23 # integer\n",
    "# print(\"Your age is \" + age) # You can't combine integer to string\n",
    "print(f\"\\nYour age is\\t {age}\") # python 3.6"
   ]
  },
  {
   "cell_type": "markdown",
   "id": "80774930",
   "metadata": {},
   "source": [
    "\n",
    "## Data type\n"
   ]
  },
  {
   "cell_type": "markdown",
   "id": "885f728f",
   "metadata": {},
   "source": [
    "### String"
   ]
  },
  {
   "cell_type": "code",
   "execution_count": 4,
   "id": "296a4520",
   "metadata": {},
   "outputs": [
    {
     "name": "stdout",
     "output_type": "stream",
     "text": [
      "Your name is Juliana Mancera\n",
      "Data type of name is  <class 'str'>\n"
     ]
    }
   ],
   "source": [
    "name = \"Juliana Mancera\" # variable name name\n",
    "print(f\"Your name is {name}\")\n",
    "print(f\"Data type of name is \", type(name))"
   ]
  },
  {
   "cell_type": "markdown",
   "id": "9a77cba0",
   "metadata": {},
   "source": [
    "### Integer"
   ]
  },
  {
   "cell_type": "code",
   "execution_count": 5,
   "id": "1163450c",
   "metadata": {},
   "outputs": [
    {
     "name": "stdout",
     "output_type": "stream",
     "text": [
      "Number 5 is an integer!\n",
      "<class 'int'>\n"
     ]
    }
   ],
   "source": [
    "number = 5 # variable\n",
    "print(f\"Number {number} is an integer!\")\n",
    "print(type(number))"
   ]
  },
  {
   "cell_type": "markdown",
   "id": "235734c2",
   "metadata": {},
   "source": [
    "### Float"
   ]
  },
  {
   "cell_type": "code",
   "execution_count": 6,
   "id": "837dad39",
   "metadata": {},
   "outputs": [
    {
     "name": "stdout",
     "output_type": "stream",
     "text": [
      "Decimal number is 12.1234567891011\n"
     ]
    },
    {
     "data": {
      "text/plain": [
       "float"
      ]
     },
     "execution_count": 6,
     "metadata": {},
     "output_type": "execute_result"
    }
   ],
   "source": [
    "# Decimal number\n",
    "decimal_number = 12.1234567891011\n",
    "print(f\"Decimal number is {decimal_number}\")\n",
    "# float is also a double in python\n",
    "\n",
    "# check data type\n",
    "type(decimal_number)"
   ]
  },
  {
   "cell_type": "markdown",
   "id": "5a521241",
   "metadata": {},
   "source": [
    "### Boolean"
   ]
  },
  {
   "cell_type": "code",
   "execution_count": 7,
   "id": "a43aaaff",
   "metadata": {},
   "outputs": [
    {
     "name": "stdout",
     "output_type": "stream",
     "text": [
      "True\n",
      "False\n"
     ]
    },
    {
     "data": {
      "text/plain": [
       "bool"
      ]
     },
     "execution_count": 7,
     "metadata": {},
     "output_type": "execute_result"
    }
   ],
   "source": [
    "# True and False must be capital on the first letter\n",
    "is_logged_in = True\n",
    "print(is_logged_in)\n",
    "print(is_logged_in == False)\n",
    "\n",
    "# check data type\n",
    "type(is_logged_in)"
   ]
  },
  {
   "cell_type": "markdown",
   "id": "0add414b",
   "metadata": {},
   "source": [
    "### List (mutable - it can be changed)"
   ]
  },
  {
   "cell_type": "code",
   "execution_count": 8,
   "id": "b09f57dc",
   "metadata": {},
   "outputs": [
    {
     "name": "stdout",
     "output_type": "stream",
     "text": [
      "Current year level list is [1, 2, 3]\n",
      "Updated year level is [1, 2, 3, 4]\n"
     ]
    },
    {
     "data": {
      "text/plain": [
       "list"
      ]
     },
     "execution_count": 8,
     "metadata": {},
     "output_type": "execute_result"
    }
   ],
   "source": [
    "year_level = [1,2,3] # use square bracker for list\n",
    "print(f\"Current year level list is {year_level}\")\n",
    "\n",
    "# append another year: 4\n",
    "year_level.append(4)\n",
    "print(f\"Updated year level is {year_level}\")\n",
    "\n",
    "# check data type\n",
    "type(year_level)"
   ]
  },
  {
   "cell_type": "markdown",
   "id": "697840bc",
   "metadata": {},
   "source": [
    "### Tuple (immutable - can not be change)"
   ]
  },
  {
   "cell_type": "code",
   "execution_count": 9,
   "id": "82016ca0",
   "metadata": {},
   "outputs": [
    {
     "name": "stdout",
     "output_type": "stream",
     "text": [
      "(10, 20)\n"
     ]
    },
    {
     "data": {
      "text/plain": [
       "tuple"
      ]
     },
     "execution_count": 9,
     "metadata": {},
     "output_type": "execute_result"
    }
   ],
   "source": [
    "dimensions = (10,20) # uses parenthesis\n",
    "print(dimensions)\n",
    "type(dimensions)"
   ]
  },
  {
   "cell_type": "markdown",
   "id": "6d0c65cf",
   "metadata": {},
   "source": [
    "### Dictionary"
   ]
  },
  {
   "cell_type": "code",
   "execution_count": 10,
   "id": "30780190",
   "metadata": {},
   "outputs": [
    {
     "name": "stdout",
     "output_type": "stream",
     "text": [
      "Student name is Maria\n",
      "Age is 21\n",
      "Program is BSCS\n",
      "Student is a <class 'dict'>\n"
     ]
    }
   ],
   "source": [
    "# uses key-value pair, curly braces\n",
    "student = {name: \"Maria\", age: 21 , \"program\": \"BSCS\"}\n",
    "print(f'Student name is {student[name]}')\n",
    "print(f'Age is {student[age]}')\n",
    "print(f'Program is {student[\"program\"]}')\n",
    "\n",
    "print(f\"Student is a {type(student)}\")\n",
    "\n"
   ]
  },
  {
   "cell_type": "markdown",
   "id": "6d55af75",
   "metadata": {},
   "source": [
    "### Set"
   ]
  },
  {
   "cell_type": "code",
   "execution_count": 12,
   "id": "0e3196f8",
   "metadata": {},
   "outputs": [
    {
     "name": "stdout",
     "output_type": "stream",
     "text": [
      "{1, 2, 3, 4}\n"
     ]
    },
    {
     "data": {
      "text/plain": [
       "set"
      ]
     },
     "execution_count": 12,
     "metadata": {},
     "output_type": "execute_result"
    }
   ],
   "source": [
    "setNumbers = {1,2,3,4} # use curly braces\n",
    "print(setNumbers)\n",
    "type(setNumbers)"
   ]
  }
 ],
 "metadata": {
  "kernelspec": {
   "display_name": "Python 3 (ipykernel)",
   "language": "python",
   "name": "python3"
  },
  "language_info": {
   "codemirror_mode": {
    "name": "ipython",
    "version": 3
   },
   "file_extension": ".py",
   "mimetype": "text/x-python",
   "name": "python",
   "nbconvert_exporter": "python",
   "pygments_lexer": "ipython3",
   "version": "3.12.1"
  }
 },
 "nbformat": 4,
 "nbformat_minor": 5
}
